{
 "cells": [
  {
   "cell_type": "markdown",
   "metadata": {},
   "source": [
    "# Algoritmos Concurrentes\n",
    "\n",
    "## Problema"
   ]
  },
  {
   "cell_type": "markdown",
   "metadata": {},
   "source": [
    "En este problema se trata de desarrollar una investigación empírica para comparar un algoritmo implementado de dos maneras.La pregunta de investigación es:\n",
    "¿Cómo se compara el desempeño del algoritmo genético secuencial con el desempeño del algoritmo genético concurrente en la resolución del problema del vendedor viajero para 17 localidades en Costa Rica? "
   ]
  },
  {
   "cell_type": "markdown",
   "metadata": {},
   "source": [
    "## Hipótesis"
   ]
  },
  {
   "cell_type": "markdown",
   "metadata": {},
   "source": [
    "Una de las hipótesis plantedas es que el algoritmo concurrente tendrá mejor desempeño. Para poder saber cuál algoritmo es más rápido hay que entender los conceptos de concurrencia y de secuencialidad y saber diferenciarlos y a partir de ahí, implementar y sacar las conclusiones y responder a la pregunta planteada.\n",
    "\n",
    "### Algoritmos Secuenciales\n",
    "\n",
    "La estructura secuencial es aquella en la que una acción (instrucción) sigue a otra en secuencia. Las tareas se suceden de tal modo que la salida de una es la entrada de la siguiente y así sucesivamente hasta el fin del proceso.(Colmenarez, 2011)\n",
    "\n",
    "\n",
    "![Alg_Secuenciales](https://logicadeprogramacion.neocities.org/sitioweb/diagrama1.gif)\n",
    "**Imagen brindada por:** https://logicadeprogramacion.neocities.org/sitioweb/algortimos-secuenciales.html\n",
    "\n",
    "### Algoritmos Concurrentes \n",
    "\n",
    "En ciencias de la computación, concurrencia se refiere a la habilidad de distintas partes de un programa, algoritmo, o problema de ser ejecutado en desorden o en orden parcial, sin afectar el resultado final. Los cálculos (operaciones) pueden ser ejecutados en múltiples procesadores, o ejecutados en procesadores separados físicamente o virtualmente en distintos hilos de ejecución.(Rance, 2020)\n",
    "\n",
    "![Filo_Comiendo](https://upload.wikimedia.org/wikipedia/commons/thumb/7/7b/An_illustration_of_the_dining_philosophers_problem.png/200px-An_illustration_of_the_dining_philosophers_problem.png)\n",
    "**Imagen brindada por:** https://es.wikipedia.org/wiki/Concurrencia_(inform%C3%A1tica)\n",
    "\n",
    "\n",
    "A grandes rasgos se puede decir, como primera hipóteisis, que los algoritmos concurrentes van a tener mucho más desempeño que los algoritmos secuenciales debido a su característica de múltiples procesadores para llegar a una solución.\n",
    "\n",
    "Los algoritmos genéticos tienen muchos parámetros de entrada que requieren de estar bien equilibrados o balanceados para un buen funcionamiento, o un funcionamiento idóneo en funcion de una población inicial y que pueden llegar a afectar consideráblemente el rendimiento del algoritmo.\n",
    "\n",
    "Se plantea como segunda hipótesis que con algoritmos genéticos concurrentes se podrán hacer pruebas con mayores iteraciones, con mayores poblaciones y con porcentajes de mutación elevados sin que se afecte mucho el rendimiento o el tiempo de ejecución, como sí sucedería con la versión secuencial. "
   ]
  },
  {
   "cell_type": "markdown",
   "metadata": {},
   "source": [
    "## Metodología"
   ]
  },
  {
   "cell_type": "markdown",
   "metadata": {},
   "source": [
    "El proceso a seguir para lo que es la experimentación y sucesivamente lograr el análisis de datos consistirá en una serie de pruebas y graficaciones que serán explicadas posteriormente. El lenguaje de programación sera *Python 3*, las pruebas del las versiones del `algoritmo_genetico.py` se correran en computadoras diferentes.\n",
    "\n",
    "Especificaciones de computadoras a ejecutar las dos versiones del Algoritmo Genético: \n",
    "\n",
    "|Computadora                      |Pc1   |Pc2  |Pc3  |Pc4  \n",
    "|-----------------------|:----:|----:|----:|----:|\n",
    "|Memoria                |M.2 2280 SSD is PCIe 3x4  |500GB ATA Disk|750GB HDD|256 GB SSD - (M.2 2280) SATA|\n",
    "|Procesador             |Intel®️ Core™️ i5-8265U CPU @ 1.60GHz × 8|Intel®️ Core™️ i5-3320M CPU @ 2.60GHz|Intel® Core™ i5-4200M CPU @ 2.50GHz × 4|Intel®️ Core™️ i7-7820HQ CPU @ 2.90GHz × 8|\n",
    "|RAM                    |8GB 2400MHz DDR4|8GB SODIMM 1600 MHz DDR3|10GB 1600MHZ DDR3| 8GB 2400MHz DDR4 |\n",
    "|S.O                    |Ubuntu 18.04.4 LTS|Ubuntu 20.04.1 LTS|Ubuntu 19.10| Ubuntu 18.04.4 LTS |\n",
    "\n",
    "La dos versiones del algoritmo genético, contenidas en `algoritmo_genetico.py` tendrán pruebas enfocadas a lo que es costo de las soluciones que brinda según la población inicial y otros parámetros de entrada, dichas pruebas tendrán una representación en forma de tablas. Se plantea tomar los datos enfocados al tiempo de ejecución de las dos versiones de los algoritmos y con ellos brindar cuáles soluciones se demoran más y cuales son los costos iniciales y finales de las soluciones, tomando en cuenta a su vez los parámetros correctos, recordando que se deben tomar los cromosomas más fitness mediante la implementación de algún algoritmo de ordenamiento en función al costo, debido a que los algoritmos genéticos no devuelven una sola solución, sino una población (varias soluciones).\n",
    "\n",
    "Para la toma de tiempos, se tiene en mente importar la biblioteca `time` y tomar un tiempo de inicio y final.\n",
    "\n",
    "Para la segunda prueba, se contaran las iteraciones dentro del de ambos algoritmos, con el objetivo de mediante la biblioteca `matplotlib`, graficar los costos de las soluciones junto a su iteración correspondiente.\n",
    "Se debe tomar en cuenta que los resultados deben ser reproducibles por lo que se harán pruebas basadas en `seed()` de la biblioteca `random` para con ello tomar las mismas secuencias pseudoaleatorias de soluciones."
   ]
  },
  {
   "cell_type": "code",
   "execution_count": 5,
   "metadata": {},
   "outputs": [],
   "source": [
    "import algoritmo_genetico\n",
    "from multiprocessing import Process, Manager\n",
    "import threading\n",
    "from math import ceil\n",
    "\n",
    "def optimizar_concurrente(dominio, tam_pobl, porc_elite, prob_mut, reps, data = False, Hilo = False):\n",
    "    poblacion = dominio.generar_n(tam_pobl)\n",
    "    costo = dominio.fcosto(poblacion[0])\n",
    "    #print(costo)\n",
    "    por_costo = lambda sol: dominio.fcosto(sol)\n",
    "    #poblacion.sort(key=por_costo)     \n",
    "    if data:\n",
    "        datos = {\"Fitness(costo ruta)\":[costo],\"Iteraciones\":[0]}\n",
    "        iteracion = 1\n",
    "    manager = Manager()\n",
    "    for iterador_genetico in range(0, reps):      \n",
    "        if __name__ == \"__main__\":\n",
    "            nueva_poblacion = algoritmo_genetico.seleccion_poblacion(dominio, poblacion, ceil(tam_pobl * porc_elite))\n",
    "            del poblacion[:]\n",
    "            poblacion = manager.list()\n",
    "            procesos = []\n",
    "            for _ in range(0, tam_pobl):\n",
    "                if Hilo:       \n",
    "                    p = threading.Thread(target = algoritmo_genetico.Iterar, args=[nueva_poblacion,dominio,poblacion,prob_mut])\n",
    "                else:\n",
    "                    p = Process(target = algoritmo_genetico.Iterar, args=[nueva_poblacion,dominio,poblacion,prob_mut])\n",
    "                p.start()\n",
    "                procesos.append(p)\n",
    "\n",
    "            for P in procesos:\n",
    "                P.join()\n",
    "            poblacion = list(poblacion)   \n",
    "        if data:\n",
    "            #ordena_poblacion(dominio,poblacion)#Implementacion de quicksort para ordenar de menor a mayor en costo\n",
    "            costo = dominio.fcosto(min(poblacion,key=por_costo))   \n",
    "            datos[\"Fitness(costo ruta)\"].append(costo)\n",
    "            datos[\"Iteraciones\"].append(iteracion)\n",
    "            iteracion +=1          \n",
    "    if data:\n",
    "        return poblacion[0],datos\n",
    "    #ordena_poblacion(dominio,poblacion)                \n",
    "    return min(poblacion,key=por_costo)"
   ]
  },
  {
   "cell_type": "code",
   "execution_count": 6,
   "metadata": {
    "scrolled": true
   },
   "outputs": [
    {
     "data": {
      "image/png": "[encoded data removed]",
      "text/plain": [
       "<Figure size 432x288 with 1 Axes>"
      ]
     },
     "metadata": {
      "needs_background": "light"
     },
     "output_type": "display_data"
    }
   ],
   "source": [
    "import dominio_ag_tsp\n",
    "import matplotlib.pyplot as plt\n",
    "from random import seed\n",
    "\n",
    "def __graficar(datos):\n",
    "    xs = datos['Iteraciones']\n",
    "    ys = datos['Fitness(costo ruta)']\n",
    "    plt.plot(xs, ys)\n",
    "    plt.ylabel('Fitness(costo ruta)')\n",
    "    plt.xlabel('Iteración')\n",
    "    plt.show()\n",
    "\n",
    "dominio_pruebas = dominio_ag_tsp.DominioAGTSP(\"datos/ciudades_cr.csv\",\"Liberia\")\n",
    "poblacion, datos = optimizar_concurrente(dominio_pruebas,100,0.1,0.1,200, data = True, Hilo = False)\n",
    "__graficar(datos)"
   ]
  },
  {
   "cell_type": "code",
   "execution_count": 9,
   "metadata": {},
   "outputs": [
    {
     "data": {
      "image/png": "[encoded data removed]",
      "text/plain": [
       "<Figure size 432x288 with 1 Axes>"
      ]
     },
     "metadata": {
      "needs_background": "light"
     },
     "output_type": "display_data"
    }
   ],
   "source": [
    "poblacion, datos = optimizar_concurrente(dominio_pruebas,100,0.1,0.1,200, data = True, Hilo = True)\n",
    "__graficar(datos)"
   ]
  },
  {
   "cell_type": "markdown",
   "metadata": {},
   "source": [
    "## Referencias"
   ]
  },
  {
   "cell_type": "markdown",
   "metadata": {},
   "source": [
    "Colmenarez, S. (2011, August 5). Algoritmo Secuenciales. Share and Discover Knowledge on SlideShare. https://www.slideshare.net/SlimsColmenarez/algoritmo-secuenciales\n",
    "\n",
    "Rance, R., & Smolka, S et al. (2020, March 16). Concurrencia (informatica). Wikipedia, la enciclopedia libre. Retrieved August 12, 2020, from https://es.wikipedia.org/wiki/Concurrencia_(inform%C3%A1tica)"
   ]
  }
 ],
 "metadata": {
  "kernelspec": {
   "display_name": "Python 3",
   "language": "python",
   "name": "python3"
  },
  "language_info": {
   "codemirror_mode": {
    "name": "ipython",
    "version": 3
   },
   "file_extension": ".py",
   "mimetype": "text/x-python",
   "name": "python",
   "nbconvert_exporter": "python",
   "pygments_lexer": "ipython3",
   "version": "3.7.5"
  }
 },
 "nbformat": 4,
 "nbformat_minor": 4
}
